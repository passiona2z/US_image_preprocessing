{
 "cells": [
  {
   "cell_type": "code",
   "execution_count": 1,
   "metadata": {},
   "outputs": [],
   "source": [
    "import cv2\n",
    "import numpy as np\n",
    "import pandas as pd\n",
    "import matplotlib.pyplot as plt\n",
    "import os\n",
    "import urllib\n",
    "import sys\n",
    "\n",
    "import glob"
   ]
  },
  {
   "cell_type": "markdown",
   "metadata": {},
   "source": [
    "### 참고코드"
   ]
  },
  {
   "cell_type": "code",
   "execution_count": 2,
   "metadata": {},
   "outputs": [
    {
     "ename": "NameError",
     "evalue": "name 'he_dataset' is not defined",
     "output_type": "error",
     "traceback": [
      "\u001b[0;31m---------------------------------------------------------------------------\u001b[0m",
      "\u001b[0;31mNameError\u001b[0m                                 Traceback (most recent call last)",
      "\u001b[1;32m/dshome/ddualab/seonjin2/denosing/report/3.apply_soure_mean_HE.ipynb 셀 3\u001b[0m line \u001b[0;36m3\n\u001b[1;32m     <a href='vscode-notebook-cell://ssh-remote%2B7b22686f73744e616d65223a22412d536572766572227d/dshome/ddualab/seonjin2/denosing/report/3.apply_soure_mean_HE.ipynb#W1sdnNjb2RlLXJlbW90ZQ%3D%3D?line=30'>31</a>\u001b[0m         similarity_list\u001b[39m.\u001b[39mappend(similaritys)      \n\u001b[1;32m     <a href='vscode-notebook-cell://ssh-remote%2B7b22686f73744e616d65223a22412d536572766572227d/dshome/ddualab/seonjin2/denosing/report/3.apply_soure_mean_HE.ipynb#W1sdnNjb2RlLXJlbW90ZQ%3D%3D?line=32'>33</a>\u001b[0m     \u001b[39mreturn\u001b[39;00m similarity_list, imgs\n\u001b[0;32m---> <a href='vscode-notebook-cell://ssh-remote%2B7b22686f73744e616d65223a22412d536572766572227d/dshome/ddualab/seonjin2/denosing/report/3.apply_soure_mean_HE.ipynb#W1sdnNjb2RlLXJlbW90ZQ%3D%3D?line=35'>36</a>\u001b[0m similarity_list, imgs \u001b[39m=\u001b[39m compare_images(he_dataset)    \n\u001b[1;32m     <a href='vscode-notebook-cell://ssh-remote%2B7b22686f73744e616d65223a22412d536572766572227d/dshome/ddualab/seonjin2/denosing/report/3.apply_soure_mean_HE.ipynb#W1sdnNjb2RlLXJlbW90ZQ%3D%3D?line=39'>40</a>\u001b[0m plt\u001b[39m.\u001b[39mfigure(figsize\u001b[39m=\u001b[39m(\u001b[39m10\u001b[39m,\u001b[39m8\u001b[39m))\n\u001b[1;32m     <a href='vscode-notebook-cell://ssh-remote%2B7b22686f73744e616d65223a22412d536572766572227d/dshome/ddualab/seonjin2/denosing/report/3.apply_soure_mean_HE.ipynb#W1sdnNjb2RlLXJlbW90ZQ%3D%3D?line=42'>43</a>\u001b[0m \u001b[39mfor\u001b[39;00m i, img \u001b[39min\u001b[39;00m \u001b[39menumerate\u001b[39m(imgs) :\n",
      "\u001b[0;31mNameError\u001b[0m: name 'he_dataset' is not defined"
     ]
    }
   ],
   "source": [
    "##################### 히스토그램 기반 유사도 ###########################\n",
    "\n",
    "import cv2\n",
    "import numpy as np\n",
    "import seaborn as sns\n",
    "import pandas as pd\n",
    "\n",
    "def compare_images(img_list):\n",
    "    # 이미지 불러오기\n",
    "    \n",
    "    imgs = []\n",
    "    hists = []\n",
    "    similarity_list = []\n",
    "        \n",
    "    for img in img_list : \n",
    "    \n",
    "        imgs.append(img)\n",
    "        hist = cv2.calcHist([img], [0], None, [256], [0, 256])\n",
    "        hists.append(hist)\n",
    "        \n",
    "\n",
    "    for query in hists : \n",
    "        \n",
    "        similaritys = []\n",
    "        \n",
    "        for hist in hists :\n",
    "        \n",
    "            similarity = cv2.compareHist(query, hist, cv2.HISTCMP_BHATTACHARYYA)\n",
    "            similaritys.append(similarity)\n",
    "            \n",
    "        similarity_list.append(similaritys)      \n",
    "        \n",
    "    return similarity_list, imgs\n",
    "        \n",
    "        \n",
    "similarity_list, imgs = compare_images(he_dataset)    \n",
    "\n",
    "\n",
    "\n",
    "plt.figure(figsize=(10,8))\n",
    "\n",
    "\n",
    "for i, img in enumerate(imgs) :\n",
    "    \n",
    "\n",
    "    plt.subplot(1,len(imgs),i+1)\n",
    "    plt.title('img%d'% (i+1))\n",
    "    plt.axis('off') \n",
    "    plt.imshow(img, cmap='gray')\n",
    "    \n",
    "plt.figure(figsize=(9.7,4))\n",
    "sns.heatmap(pd.DataFrame(similarity_list), annot=True, cbar=False, cmap=\"Greens\")\n",
    "plt.show()\n",
    "\n",
    "print((pd.DataFrame(similarity_list).sum().sum()) / 2)"
   ]
  },
  {
   "cell_type": "code",
   "execution_count": 33,
   "metadata": {},
   "outputs": [
    {
     "data": {
      "text/plain": [
       "780"
      ]
     },
     "execution_count": 33,
     "metadata": {},
     "output_type": "execute_result"
    }
   ],
   "source": [
    "li = glob.glob('/dshome/ddualab/seonjin2/denosing/dataset/BUSI/*')\n",
    "\n",
    "img_list = []\n",
    "\n",
    "for i in li :\n",
    "    \n",
    "    img = glob.glob(i + '/*).png')\n",
    "    img_list.extend(img)\n",
    "    \n",
    "\n",
    "origin_dataset = []\n",
    "\n",
    "for img in img_list:\n",
    "    \n",
    "  img = cv2.imread(img, cv2.IMREAD_GRAYSCALE)\n",
    "\n",
    "  resized_img = cv2.resize(img, (256, 256))\n",
    "  origin_dataset.append(resized_img)\n",
    "\n",
    "origin_dataset = np.array(origin_dataset)\n",
    "\n",
    "\n",
    "origin_dataset = origin_dataset.reshape(origin_dataset.shape[0], -1)\n",
    "\n",
    "x = origin_dataset.mean(axis=1)\n",
    "x = np.float32(x)    \n",
    "len(x)"
   ]
  },
  {
   "cell_type": "code",
   "execution_count": 34,
   "metadata": {},
   "outputs": [
    {
     "data": {
      "text/plain": [
       "163"
      ]
     },
     "execution_count": 34,
     "metadata": {},
     "output_type": "execute_result"
    }
   ],
   "source": [
    "li = glob.glob('/dshome/ddualab/seonjin2/denosing/dataset/Dataset B/original')\n",
    "\n",
    "img_list = []\n",
    "\n",
    "for i in li :\n",
    "    \n",
    "    img = glob.glob(i + '/*.png')\n",
    "    img_list.extend(img)\n",
    "    \n",
    "origin_dataset = []\n",
    "\n",
    "for img in img_list:\n",
    "    \n",
    "  img = cv2.imread(img, cv2.IMREAD_GRAYSCALE)\n",
    "\n",
    "  resized_img = cv2.resize(img, (256, 256))\n",
    "  origin_dataset.append(resized_img)\n",
    "\n",
    "origin_dataset = np.array(origin_dataset)\n",
    "\n",
    "\n",
    "origin_dataset = origin_dataset.reshape(origin_dataset.shape[0], -1)\n",
    "\n",
    "y = origin_dataset.mean(axis=1)\n",
    "y = np.float32(y)\n",
    "len(y)"
   ]
  },
  {
   "cell_type": "code",
   "execution_count": 35,
   "metadata": {},
   "outputs": [
    {
     "data": {
      "text/plain": [
       "1000"
      ]
     },
     "execution_count": 35,
     "metadata": {},
     "output_type": "execute_result"
    }
   ],
   "source": [
    "li = glob.glob('/dshome/ddualab/seonjin2/denosing/dataset/Miccai BUV/*/*')\n",
    "\n",
    "img_list = []\n",
    "\n",
    "for i in li :\n",
    "    \n",
    "    img = glob.glob(i + '/*.png')\n",
    "    img_list.extend(img)\n",
    "    \n",
    "    \n",
    "origin_dataset = []\n",
    "\n",
    "for img in img_list:\n",
    "    \n",
    "  img = cv2.imread(img, cv2.IMREAD_GRAYSCALE)\n",
    "\n",
    "  resized_img = cv2.resize(img, (256, 256))\n",
    "  origin_dataset.append(resized_img)\n",
    "\n",
    "origin_dataset = np.array(origin_dataset)\n",
    "\n",
    "\n",
    "origin_dataset = origin_dataset.reshape(origin_dataset.shape[0], -1)\n",
    "\n",
    "z = origin_dataset.mean(axis=1)\n",
    "z = np.float32(z)\n",
    "len(z)"
   ]
  },
  {
   "cell_type": "code",
   "execution_count": 36,
   "metadata": {},
   "outputs": [],
   "source": [
    "x_hist = cv2.calcHist([x], [0], None, [256], [0, 256])\n",
    "y_hist = cv2.calcHist([y], [0], None, [256], [0, 256])\n",
    "z_hist = cv2.calcHist([z], [0], None, [256], [0, 256])"
   ]
  },
  {
   "cell_type": "code",
   "execution_count": 37,
   "metadata": {},
   "outputs": [
    {
     "data": {
      "text/plain": [
       "(0.531070587335413, 0.8324456450243136, 0.3432001153863376)"
      ]
     },
     "execution_count": 37,
     "metadata": {},
     "output_type": "execute_result"
    }
   ],
   "source": [
    "cv2.compareHist(x_hist, y_hist, cv2.HISTCMP_CORREL), cv2.compareHist(x_hist, z_hist, cv2.HISTCMP_CORREL),  cv2.compareHist(y_hist, z_hist, cv2.HISTCMP_CORREL)"
   ]
  },
  {
   "cell_type": "markdown",
   "metadata": {},
   "source": [
    "### 적용"
   ]
  },
  {
   "cell_type": "code",
   "execution_count": 38,
   "metadata": {},
   "outputs": [
    {
     "data": {
      "text/plain": [
       "780"
      ]
     },
     "execution_count": 38,
     "metadata": {},
     "output_type": "execute_result"
    }
   ],
   "source": [
    "li = glob.glob('/dshome/ddualab/seonjin2/denosing/dataset/BUSI/*')\n",
    "\n",
    "img_list = []\n",
    "\n",
    "for i in li :\n",
    "    \n",
    "    img = glob.glob(i + '/*).png')\n",
    "    img_list.extend(img)\n",
    "\n",
    "\n",
    "norm_dataset = []\n",
    "\n",
    "for img in img_list:\n",
    "  img = cv2.imread(img, cv2.IMREAD_GRAYSCALE)\n",
    "  resized_img = cv2.resize(img, (256, 256))\n",
    "  norm_img = cv2.equalizeHist(resized_img)\n",
    "  norm_dataset.append(norm_img)\n",
    "\n",
    "norm_dataset = np.array(norm_dataset)\n",
    "\n",
    "norm_dataset = norm_dataset.reshape(norm_dataset.shape[0], -1)\n",
    "\n",
    "x_a = norm_dataset.mean(axis=1)\n",
    "x_a = np.float32(x_a)\n",
    "len(x_a)"
   ]
  },
  {
   "cell_type": "code",
   "execution_count": 39,
   "metadata": {},
   "outputs": [
    {
     "data": {
      "text/plain": [
       "163"
      ]
     },
     "execution_count": 39,
     "metadata": {},
     "output_type": "execute_result"
    }
   ],
   "source": [
    "li = glob.glob('/dshome/ddualab/seonjin2/denosing/dataset/Dataset B/original')\n",
    "\n",
    "img_list = []\n",
    "\n",
    "for i in li :\n",
    "    \n",
    "    img = glob.glob(i + '/*.png')\n",
    "    img_list.extend(img)\n",
    "    \n",
    "    \n",
    "norm_dataset = []\n",
    "\n",
    "for img in img_list:\n",
    "  img = cv2.imread(img, cv2.IMREAD_GRAYSCALE)\n",
    "  resized_img = cv2.resize(img, (256, 256))\n",
    "  norm_img = cv2.equalizeHist(resized_img)\n",
    "  norm_dataset.append(norm_img)\n",
    "\n",
    "norm_dataset = np.array(norm_dataset)\n",
    "\n",
    "norm_dataset = norm_dataset.reshape(norm_dataset.shape[0], -1)\n",
    "\n",
    "y_a = norm_dataset.mean(axis=1)\n",
    "y_a = np.float32(y_a)\n",
    "len(y_a)"
   ]
  },
  {
   "cell_type": "code",
   "execution_count": 40,
   "metadata": {},
   "outputs": [
    {
     "data": {
      "text/plain": [
       "1000"
      ]
     },
     "execution_count": 40,
     "metadata": {},
     "output_type": "execute_result"
    }
   ],
   "source": [
    "li = glob.glob('/dshome/ddualab/seonjin2/denosing/dataset/Miccai BUV/*/*')\n",
    "\n",
    "img_list = []\n",
    "\n",
    "for i in li :\n",
    "    \n",
    "    img = glob.glob(i + '/*.png')\n",
    "    img_list.extend(img)\n",
    "\n",
    "norm_dataset = []\n",
    "\n",
    "for img in img_list:\n",
    "  img = cv2.imread(img, cv2.IMREAD_GRAYSCALE)\n",
    "  resized_img = cv2.resize(img, (256, 256))\n",
    "  norm_img = cv2.equalizeHist(resized_img)\n",
    "  norm_dataset.append(norm_img)\n",
    "\n",
    "norm_dataset = np.array(norm_dataset)\n",
    "\n",
    "norm_dataset = norm_dataset.reshape(norm_dataset.shape[0], -1)\n",
    "\n",
    "z_a = norm_dataset.mean(axis=1)\n",
    "z_a = np.float32(z_a)\n",
    "len(z_a)"
   ]
  },
  {
   "cell_type": "code",
   "execution_count": 41,
   "metadata": {},
   "outputs": [
    {
     "data": {
      "text/plain": [
       "(0.9776092386086643, 0.9773060399943715, 0.9907270731800454)"
      ]
     },
     "execution_count": 41,
     "metadata": {},
     "output_type": "execute_result"
    }
   ],
   "source": [
    "x_hist = cv2.calcHist([x_a], [0], None, [256], [0, 256])\n",
    "y_hist = cv2.calcHist([y_a], [0], None, [256], [0, 256])\n",
    "z_hist = cv2.calcHist([z_a], [0], None, [256], [0, 256])\n",
    "\n",
    "cv2.compareHist(x_hist, y_hist, cv2.HISTCMP_CORREL), cv2.compareHist(x_hist, z_hist, cv2.HISTCMP_CORREL),  cv2.compareHist(y_hist, z_hist, cv2.HISTCMP_CORREL)"
   ]
  },
  {
   "cell_type": "code",
   "execution_count": 32,
   "metadata": {},
   "outputs": [
    {
     "data": {
      "text/plain": [
       "[<matplotlib.lines.Line2D at 0x7fe1271d43d0>]"
      ]
     },
     "execution_count": 32,
     "metadata": {},
     "output_type": "execute_result"
    },
    {
     "data": {
      "image/png": "[encoded data removed]",
      "text/plain": [
       "<Figure size 640x480 with 1 Axes>"
      ]
     },
     "metadata": {},
     "output_type": "display_data"
    }
   ],
   "source": [
    "plt.plot(z_hist)"
   ]
  },
  {
   "cell_type": "code",
   "execution_count": null,
   "metadata": {},
   "outputs": [],
   "source": []
  }
 ],
 "metadata": {
  "kernelspec": {
   "display_name": "Python 3",
   "language": "python",
   "name": "python3"
  },
  "language_info": {
   "codemirror_mode": {
    "name": "ipython",
    "version": 3
   },
   "file_extension": ".py",
   "mimetype": "text/x-python",
   "name": "python",
   "nbconvert_exporter": "python",
   "pygments_lexer": "ipython3",
   "version": "3.8.10"
  }
 },
 "nbformat": 4,
 "nbformat_minor": 2
}
